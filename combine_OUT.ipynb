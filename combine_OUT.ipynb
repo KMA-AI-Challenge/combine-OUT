{
 "cells": [
  {
   "cell_type": "code",
   "execution_count": 78,
   "metadata": {
    "scrolled": false
   },
   "outputs": [
    {
     "name": "stdout",
     "output_type": "stream",
     "text": [
      "[[0 0 0 ... 0 0 0]\n",
      " [0 0 0 ... 0 0 0]\n",
      " [0 0 0 ... 0 0 0]\n",
      " ...\n",
      " [0 0 0 ... 0 0 0]\n",
      " [0 0 0 ... 0 0 0]\n",
      " [0 0 0 ... 0 0 0]]\n",
      "(256, 256)\n",
      "[[0 0 0 ... 0 0 0]\n",
      " [0 0 0 ... 0 0 0]\n",
      " [0 0 0 ... 0 0 0]\n",
      " ...\n",
      " [0 0 0 ... 0 0 0]\n",
      " [0 0 0 ... 0 0 0]\n",
      " [0 0 0 ... 0 0 0]]\n",
      "(256, 256)\n",
      "[[0 0 0 ... 0 0 0]\n",
      " [0 0 0 ... 0 0 0]\n",
      " [0 0 0 ... 0 0 0]\n",
      " ...\n",
      " [0 0 0 ... 0 0 0]\n",
      " [0 0 0 ... 0 0 0]\n",
      " [0 0 0 ... 0 0 0]]\n",
      "(256, 256)\n",
      "(256, 256, 3)\n"
     ]
    }
   ],
   "source": [
    "import os\n",
    "import numpy as np\n",
    "from PIL import Image\n",
    "import cv2\n",
    "\n",
    "channel0_path = 'OUT/shift0/1.jpg'\n",
    "channel0 = Image.open(channel0_path)\n",
    "\n",
    "channel1_path = 'OUT/shift1/1.jpg'\n",
    "channel1 = Image.open(channel1_path)\n",
    "\n",
    "channel2_path = 'OUT/shift2/1.jpg'\n",
    "channel2 = Image.open(channel2_path)\n",
    "\n",
    "x_0 = np.array(channel0)\n",
    "print(x_0)\n",
    "print(x_0.shape)\n",
    "\n",
    "x_1 = np.array(channel1)\n",
    "print(x_1)\n",
    "print(x_1.shape)\n",
    "\n",
    "x_2 = np.array(channel2)\n",
    "print(x_2)\n",
    "print(x_2.shape)\n",
    "\n",
    "combine = cv2.merge([x_0, x_1, x_2]) # rgb -> red(r) : x_0, green(g): x_1, blue(b): x_2\n",
    "\n",
    "combine = np.array(combine).reshape(256,256,3)\n",
    "print(combine.shape)\n",
    "\n",
    "img_2 = Image.fromarray(combine)\n",
    "img_2.show()\n",
    "\n"
   ]
  },
  {
   "cell_type": "code",
   "execution_count": 65,
   "metadata": {},
   "outputs": [
    {
     "name": "stdout",
     "output_type": "stream",
     "text": [
      "Collecting torchvision\n",
      "  Downloading torchvision-0.13.1-cp37-cp37m-macosx_10_9_x86_64.whl (1.3 MB)\n",
      "\u001b[K     |████████████████████████████████| 1.3 MB 6.0 MB/s eta 0:00:01\n",
      "\u001b[?25hRequirement already satisfied: numpy in /Users/hyunkwon/opt/anaconda3/lib/python3.7/site-packages (from torchvision) (1.18.1)\n",
      "Requirement already satisfied: requests in /Users/hyunkwon/opt/anaconda3/lib/python3.7/site-packages (from torchvision) (2.22.0)\n",
      "Collecting typing-extensions\n",
      "  Downloading typing_extensions-4.4.0-py3-none-any.whl (26 kB)\n",
      "Collecting torch==1.12.1\n",
      "  Downloading torch-1.12.1-cp37-none-macosx_10_9_x86_64.whl (137.7 MB)\n",
      "\u001b[K     |████████████████████████████████| 137.7 MB 98 kB/s  eta 0:00:01   |█▉                              | 7.7 MB 1.1 MB/s eta 0:02:01     |███▋                            | 15.6 MB 325 kB/s eta 0:06:15     |███████▍                        | 31.8 MB 345 kB/s eta 0:05:07     |███████▊                        | 33.1 MB 335 kB/s eta 0:05:12     |██████████████████████████▌     | 114.1 MB 361 kB/s eta 0:01:06     |███████████████████████████▋    | 118.8 MB 314 kB/s eta 0:01:01\n",
      "\u001b[?25hRequirement already satisfied: pillow!=8.3.*,>=5.3.0 in /Users/hyunkwon/opt/anaconda3/lib/python3.7/site-packages (from torchvision) (7.0.0)\n",
      "Requirement already satisfied: chardet<3.1.0,>=3.0.2 in /Users/hyunkwon/opt/anaconda3/lib/python3.7/site-packages (from requests->torchvision) (3.0.4)\n",
      "Requirement already satisfied: idna<2.9,>=2.5 in /Users/hyunkwon/opt/anaconda3/lib/python3.7/site-packages (from requests->torchvision) (2.8)\n",
      "Requirement already satisfied: certifi>=2017.4.17 in /Users/hyunkwon/opt/anaconda3/lib/python3.7/site-packages (from requests->torchvision) (2019.11.28)\n",
      "Requirement already satisfied: urllib3!=1.25.0,!=1.25.1,<1.26,>=1.21.1 in /Users/hyunkwon/opt/anaconda3/lib/python3.7/site-packages (from requests->torchvision) (1.25.8)\n",
      "Installing collected packages: typing-extensions, torch, torchvision\n",
      "Successfully installed torch-1.12.1 torchvision-0.13.1 typing-extensions-4.4.0\n"
     ]
    }
   ],
   "source": [
    "!pip install torchvision"
   ]
  }
 ],
 "metadata": {
  "kernelspec": {
   "display_name": "Python 3",
   "language": "python",
   "name": "python3"
  },
  "language_info": {
   "codemirror_mode": {
    "name": "ipython",
    "version": 3
   },
   "file_extension": ".py",
   "mimetype": "text/x-python",
   "name": "python",
   "nbconvert_exporter": "python",
   "pygments_lexer": "ipython3",
   "version": "3.7.6"
  }
 },
 "nbformat": 4,
 "nbformat_minor": 4
}
